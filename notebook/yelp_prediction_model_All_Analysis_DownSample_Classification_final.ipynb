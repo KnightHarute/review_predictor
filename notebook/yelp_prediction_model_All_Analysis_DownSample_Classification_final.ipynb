{
 "cells": [
  {
   "cell_type": "code",
   "execution_count": 1,
   "metadata": {},
   "outputs": [
    {
     "name": "stdout",
     "output_type": "stream",
     "text": [
      "(7012462, 2)\n"
     ]
    },
    {
     "data": {
      "text/html": [
       "<div>\n",
       "<style scoped>\n",
       "    .dataframe tbody tr th:only-of-type {\n",
       "        vertical-align: middle;\n",
       "    }\n",
       "\n",
       "    .dataframe tbody tr th {\n",
       "        vertical-align: top;\n",
       "    }\n",
       "\n",
       "    .dataframe thead th {\n",
       "        text-align: right;\n",
       "    }\n",
       "</style>\n",
       "<table border=\"1\" class=\"dataframe\">\n",
       "  <thead>\n",
       "    <tr style=\"text-align: right;\">\n",
       "      <th></th>\n",
       "      <th>review_stars</th>\n",
       "      <th>text</th>\n",
       "    </tr>\n",
       "  </thead>\n",
       "  <tbody>\n",
       "    <tr>\n",
       "      <th>0</th>\n",
       "      <td>4</td>\n",
       "      <td>What a treat it was to find Sidebar in Downtow...</td>\n",
       "    </tr>\n",
       "    <tr>\n",
       "      <th>1</th>\n",
       "      <td>5</td>\n",
       "      <td>I love Sunchain! I have been a customer for ov...</td>\n",
       "    </tr>\n",
       "    <tr>\n",
       "      <th>2</th>\n",
       "      <td>3</td>\n",
       "      <td>The food is good. But the service is suck comp...</td>\n",
       "    </tr>\n",
       "    <tr>\n",
       "      <th>3</th>\n",
       "      <td>1</td>\n",
       "      <td>We went here the first week they opened and we...</td>\n",
       "    </tr>\n",
       "    <tr>\n",
       "      <th>4</th>\n",
       "      <td>1</td>\n",
       "      <td>Beware, discriminating amongst the gay communi...</td>\n",
       "    </tr>\n",
       "  </tbody>\n",
       "</table>\n",
       "</div>"
      ],
      "text/plain": [
       "   review_stars                                               text\n",
       "0             4  What a treat it was to find Sidebar in Downtow...\n",
       "1             5  I love Sunchain! I have been a customer for ov...\n",
       "2             3  The food is good. But the service is suck comp...\n",
       "3             1  We went here the first week they opened and we...\n",
       "4             1  Beware, discriminating amongst the gay communi..."
      ]
     },
     "execution_count": 1,
     "metadata": {},
     "output_type": "execute_result"
    }
   ],
   "source": [
    "import numpy as np\n",
    "import pandas as pd\n",
    "from glob import glob\n",
    "# merge csv files\n",
    "yelp = pd.read_csv('yelp_reviews.csv')\n",
    "\n",
    "\n",
    "print(yelp.shape)\n",
    "yelp.head()"
   ]
  },
  {
   "cell_type": "code",
   "execution_count": 2,
   "metadata": {},
   "outputs": [
    {
     "data": {
      "text/plain": [
       "Text(0, 0.5, 'Reviews')"
      ]
     },
     "execution_count": 2,
     "metadata": {},
     "output_type": "execute_result"
    },
    {
     "data": {
      "image/png": "[encoded data removed]",
      "text/plain": [
       "<Figure size 720x432 with 1 Axes>"
      ]
     },
     "metadata": {},
     "output_type": "display_data"
    }
   ],
   "source": [
    "import matplotlib.pyplot as plt\n",
    "import seaborn\n",
    "\n",
    "\n",
    "plt.rc('figure', figsize=(10,6))\n",
    "seaborn.set()\n",
    "colors = seaborn.color_palette()\n",
    "yelp.text.dropna().str.len().hist(bins=30)\n",
    "plt.xlabel('Length of the review')\n",
    "plt.ylabel('Number of reviews')\n",
    "plt.ylabel('Reviews')"
   ]
  },
  {
   "cell_type": "code",
   "execution_count": 4,
   "metadata": {},
   "outputs": [
    {
     "data": {
      "text/plain": [
       "[1, 2, 3, 4, 5]"
      ]
     },
     "execution_count": 4,
     "metadata": {},
     "output_type": "execute_result"
    }
   ],
   "source": [
    "sorted(yelp['review_stars'].unique())"
   ]
  },
  {
   "cell_type": "code",
   "execution_count": 4,
   "metadata": {
    "scrolled": true
   },
   "outputs": [
    {
     "data": {
      "image/png": "[encoded data removed]",
      "text/plain": [
       "<Figure size 720x432 with 1 Axes>"
      ]
     },
     "metadata": {},
     "output_type": "display_data"
    }
   ],
   "source": [
    "bins = [1 ,2 ,3 ,4, 5, 6]\n",
    "yelp.review_stars.hist(bins=bins, align='left', width=0.93)\n",
    "plt.xticks(bins)\n",
    "plt.xlabel('Rating stars')\n",
    "plt.ylabel('Number of reviews')\n",
    "plt.title(\"Rating for Yelp Dataset\", fontsize=16)\n",
    "plt.show()"
   ]
  },
  {
   "cell_type": "code",
   "execution_count": 5,
   "metadata": {},
   "outputs": [
    {
     "name": "stdout",
     "output_type": "stream",
     "text": [
      "1 Star: 1126464\n",
      "2 Star: 555808\n",
      "3 Star: 736257\n",
      "4 Star: 1460423\n",
      "5 Star: 3133510\n"
     ]
    }
   ],
   "source": [
    "target_count = yelp.review_stars.value_counts()\n",
    "print('1 Star:', target_count[1])\n",
    "print('2 Star:', target_count[2])\n",
    "print('3 Star:', target_count[3])\n",
    "print('4 Star:', target_count[4])\n",
    "print('5 Star:', target_count[5])"
   ]
  },
  {
   "cell_type": "code",
   "execution_count": 19,
   "metadata": {},
   "outputs": [
    {
     "data": {
      "text/plain": [
       "High Rating    4593933\n",
       "Low Rating     2418529\n",
       "Name: rating, dtype: int64"
      ]
     },
     "execution_count": 19,
     "metadata": {},
     "output_type": "execute_result"
    }
   ],
   "source": [
    "#Binary classification\n",
    "yelp['rating'] = yelp['review_stars'].replace({1:'Low Rating', 2:'Low Rating', 3:'Low Rating',\n",
    "                                           4:'High Rating', 5:'High Rating'})\n",
    "yelp.rating.value_counts()"
   ]
  },
  {
   "cell_type": "code",
   "execution_count": null,
   "metadata": {},
   "outputs": [],
   "source": []
  },
  {
   "cell_type": "code",
   "execution_count": 6,
   "metadata": {},
   "outputs": [
    {
     "name": "stdout",
     "output_type": "stream",
     "text": [
      "Average Rating of Yelp Dataset is: 3.7014236939893577\n"
     ]
    }
   ],
   "source": [
    "#Average Rating of Fitness\n",
    "ratings = list(yelp['review_stars'])\n",
    "print(\"Average Rating of Yelp Dataset is:\",sum(ratings)/len(ratings))"
   ]
  },
  {
   "cell_type": "code",
   "execution_count": 7,
   "metadata": {},
   "outputs": [
    {
     "name": "stdout",
     "output_type": "stream",
     "text": [
      "On average a review of Yelp Dataset has about: 110.77891773245973\n"
     ]
    }
   ],
   "source": [
    "#average length of reviews\n",
    "totalreviews = list(yelp['text'])\n",
    "length = []\n",
    "for i in range(0,len(totalreviews)):\n",
    "        totalreviews[i] = str(totalreviews[i])\n",
    "        a = len(totalreviews[i].split(' '))\n",
    "        length.append(a)\n",
    "\n",
    "    \n",
    "print(\"On average a review of Yelp Dataset has about:\", sum(length)/len(length))"
   ]
  },
  {
   "cell_type": "code",
   "execution_count": 8,
   "metadata": {},
   "outputs": [
    {
     "data": {
      "text/plain": [
       "7012462"
      ]
     },
     "execution_count": 8,
     "metadata": {},
     "output_type": "execute_result"
    }
   ],
   "source": [
    "#total reviews number\n",
    "len(length)"
   ]
  },
  {
   "cell_type": "code",
   "execution_count": 9,
   "metadata": {},
   "outputs": [],
   "source": [
    "yelp['length'] =  length\n",
    "yelp['ratings'] =  ratings\n",
    "five_star = yelp.loc[yelp['ratings'] == 5,:]\n",
    "five = sum(five_star['length'])/len(five_star['length'])\n",
    "four_star = yelp.loc[yelp['ratings'] == 4,:]\n",
    "four = sum(four_star['length'])/len(four_star['length'])\n",
    "three_star = yelp.loc[yelp['ratings'] == 3,:]\n",
    "three = sum(three_star['length'])/len(three_star['length'])\n",
    "two_star = yelp.loc[yelp['ratings'] == 2,:]\n",
    "two = sum(two_star['length'])/len(two_star['length'])\n",
    "one_star = yelp.loc[yelp['ratings'] == 1,:]\n",
    "one = sum(one_star['length'])/len(one_star['length'])"
   ]
  },
  {
   "cell_type": "code",
   "execution_count": 10,
   "metadata": {},
   "outputs": [
    {
     "name": "stdout",
     "output_type": "stream",
     "text": [
      "five: 87.36198927081772 four: 114.31989293512908 three: 131.54477173052345 two: 141.62237319362083 one: 142.536535566161\n"
     ]
    }
   ],
   "source": [
    "print(\"five:\",five,\"four:\",four,\"three:\",three,\"two:\",two,\"one:\",one)"
   ]
  },
  {
   "cell_type": "code",
   "execution_count": 12,
   "metadata": {},
   "outputs": [],
   "source": [
    "#5 star has the shortest review length, 1 star has the longest"
   ]
  },
  {
   "cell_type": "code",
   "execution_count": 11,
   "metadata": {},
   "outputs": [
    {
     "name": "stderr",
     "output_type": "stream",
     "text": [
      "c:\\users\\wang\\appdata\\local\\programs\\python\\python37\\lib\\site-packages\\seaborn\\_decorators.py:43: FutureWarning: Pass the following variables as keyword args: x, y. From version 0.12, the only valid positional argument will be `data`, and passing other arguments without an explicit keyword will result in an error or misinterpretation.\n",
      "  FutureWarning\n"
     ]
    },
    {
     "data": {
      "image/png": "[encoded data removed]",
      "text/plain": [
       "<Figure size 720x432 with 1 Axes>"
      ]
     },
     "metadata": {},
     "output_type": "display_data"
    }
   ],
   "source": [
    "colors = ['#ffd900', '#ffa600','#ff7b00', '#ff4800', '#ff0000']\n",
    "seaborn.set_palette(seaborn.color_palette(colors))\n",
    "top = ['1','2','3','4','5']\n",
    "value = [int(one), int(two),int(three),int(four),int(five)]\n",
    "seaborn.barplot(top, value, alpha=0.9)\n",
    "plt.xlabel('Rating of the product', fontsize=14)\n",
    "plt.ylabel('Average number of words in the review', fontsize=14)\n",
    "plt.title(\"Rating vs Number of words in Yelp Dataset\", fontsize=16)\n",
    "plt.show()"
   ]
  },
  {
   "cell_type": "code",
   "execution_count": null,
   "metadata": {},
   "outputs": [],
   "source": []
  },
  {
   "cell_type": "markdown",
   "metadata": {},
   "source": [
    "# Baseline"
   ]
  },
  {
   "cell_type": "code",
   "execution_count": 13,
   "metadata": {},
   "outputs": [
    {
     "name": "stdout",
     "output_type": "stream",
     "text": [
      "Baseline of rating Yelp Dataset = 5\n"
     ]
    }
   ],
   "source": [
    "#The simplest baseline for each of these predictive tasks is a model that always predicts the most common rating.\n",
    "yelp['baseline_rating'] = 5\n",
    "\n",
    "print(\"Baseline of rating Yelp Dataset = 5\" )"
   ]
  },
  {
   "cell_type": "code",
   "execution_count": 14,
   "metadata": {},
   "outputs": [],
   "source": [
    "t = yelp[['review_stars', 'baseline_rating']].dropna(how='any')"
   ]
  },
  {
   "cell_type": "code",
   "execution_count": 16,
   "metadata": {},
   "outputs": [
    {
     "data": {
      "text/html": [
       "<div>\n",
       "<style scoped>\n",
       "    .dataframe tbody tr th:only-of-type {\n",
       "        vertical-align: middle;\n",
       "    }\n",
       "\n",
       "    .dataframe tbody tr th {\n",
       "        vertical-align: top;\n",
       "    }\n",
       "\n",
       "    .dataframe thead th {\n",
       "        text-align: right;\n",
       "    }\n",
       "</style>\n",
       "<table border=\"1\" class=\"dataframe\">\n",
       "  <thead>\n",
       "    <tr style=\"text-align: right;\">\n",
       "      <th></th>\n",
       "      <th>accuracy</th>\n",
       "      <th>f1_score</th>\n",
       "      <th>precision</th>\n",
       "      <th>recall</th>\n",
       "    </tr>\n",
       "  </thead>\n",
       "  <tbody>\n",
       "    <tr>\n",
       "      <th>Baseline of Yelp Dataset</th>\n",
       "      <td>0.446849</td>\n",
       "      <td>0.123537</td>\n",
       "      <td>0.08937</td>\n",
       "      <td>0.2</td>\n",
       "    </tr>\n",
       "  </tbody>\n",
       "</table>\n",
       "</div>"
      ],
      "text/plain": [
       "                          accuracy  f1_score  precision  recall\n",
       "Baseline of Yelp Dataset  0.446849  0.123537    0.08937     0.2"
      ]
     },
     "execution_count": 16,
     "metadata": {},
     "output_type": "execute_result"
    }
   ],
   "source": [
    "from sklearn import metrics\n",
    "from sklearn.metrics import classification_report\n",
    "from sklearn.metrics import accuracy_score\n",
    "\n",
    "\n",
    "precision = metrics.precision_score(t.review_stars, t.baseline_rating, average='macro')\n",
    "recall = metrics.recall_score(t.review_stars, t.baseline_rating, average='macro')\n",
    "f1 = metrics.f1_score(t.review_stars, t.baseline_rating, average='macro')\n",
    "accuracy = accuracy_score(t.review_stars, t.baseline_rating)\n",
    "\n",
    "baselineResult = {}\n",
    "\n",
    "data = {'precision':precision,\n",
    "        'recall':recall,\n",
    "        'f1_score':f1,\n",
    "        'accuracy':accuracy}\n",
    "\n",
    "baselineResult['Baseline of Yelp Dataset'] = data\n",
    "pd.DataFrame(baselineResult).T"
   ]
  },
  {
   "cell_type": "code",
   "execution_count": null,
   "metadata": {},
   "outputs": [],
   "source": []
  },
  {
   "cell_type": "markdown",
   "metadata": {},
   "source": [
    "# ________________________________________"
   ]
  },
  {
   "cell_type": "code",
   "execution_count": 3,
   "metadata": {},
   "outputs": [],
   "source": [
    "from sklearn.pipeline import Pipeline\n",
    "from sklearn.svm import LinearSVC\n",
    "from sklearn.feature_extraction.text import TfidfVectorizer \n",
    "from imblearn.under_sampling import RandomUnderSampler\n",
    "from imblearn.pipeline import make_pipeline\n",
    "\n"
   ]
  },
  {
   "cell_type": "code",
   "execution_count": 4,
   "metadata": {},
   "outputs": [],
   "source": [
    "# Instances for pipeline\n",
    "#verbose = to show progress, higher number show more details\n",
    "#n_jobs = n of process running in parallelly\n",
    "#rus = RandomUnderSampler(sampling_strategy='not minority')\n",
    "rus = RandomUnderSampler(sampling_strategy='not minority') \n",
    "#svclassifier = SVC(kernel='linear', verbose=True, cache_size=8192)\n",
    "vect = TfidfVectorizer(stop_words='english', ngram_range=(1,1),encoding='utf-8')"
   ]
  },
  {
   "cell_type": "markdown",
   "metadata": {},
   "source": [
    "# Train_Test_Split"
   ]
  },
  {
   "cell_type": "code",
   "execution_count": 5,
   "metadata": {},
   "outputs": [
    {
     "name": "stdout",
     "output_type": "stream",
     "text": [
      "Y_new长度: 2779040\n"
     ]
    }
   ],
   "source": [
    "from sklearn.model_selection import train_test_split\n",
    "\n",
    "X = yelp['text']\n",
    "Y = yelp['review_stars']\n",
    "\n",
    "X_new, Y_new = rus.fit_sample(X.values.reshape(-1,1),Y)\n",
    "\n",
    "print('Y_new长度:',len(Y_new))\n",
    "#555808 * 5 =2779040"
   ]
  },
  {
   "cell_type": "code",
   "execution_count": 12,
   "metadata": {},
   "outputs": [],
   "source": [
    "X_train, X_test, y_train, y_test = train_test_split(X_new, Y_new, test_size=0.3, random_state=1)"
   ]
  },
  {
   "cell_type": "code",
   "execution_count": 13,
   "metadata": {},
   "outputs": [],
   "source": [
    "from sklearn.svm import LinearSVC\n",
    "clf = LinearSVC(C = 0.05, verbose=2)"
   ]
  },
  {
   "cell_type": "code",
   "execution_count": 14,
   "metadata": {},
   "outputs": [],
   "source": [
    "pipe_fitness = Pipeline([('vect', vect), ('clf', clf)])"
   ]
  },
  {
   "cell_type": "code",
   "execution_count": null,
   "metadata": {},
   "outputs": [],
   "source": []
  },
  {
   "cell_type": "code",
   "execution_count": 15,
   "metadata": {},
   "outputs": [
    {
     "name": "stdout",
     "output_type": "stream",
     "text": [
      "[LibLinear]"
     ]
    },
    {
     "data": {
      "text/plain": [
       "Pipeline(steps=[('vect', TfidfVectorizer(stop_words='english')),\n",
       "                ('clf', LinearSVC(C=0.05, verbose=2))])"
      ]
     },
     "execution_count": 15,
     "metadata": {},
     "output_type": "execute_result"
    }
   ],
   "source": [
    "pipe_fitness.fit(X_train.flatten(),y_train)"
   ]
  },
  {
   "cell_type": "code",
   "execution_count": 16,
   "metadata": {
    "scrolled": true
   },
   "outputs": [],
   "source": [
    "y_pred=pipe_fitness.predict(X_test.flatten())"
   ]
  },
  {
   "cell_type": "code",
   "execution_count": 11,
   "metadata": {},
   "outputs": [
    {
     "name": "stdout",
     "output_type": "stream",
     "text": [
      "Fitting 4 folds for each of 4 candidates, totalling 16 fits\n"
     ]
    },
    {
     "name": "stderr",
     "output_type": "stream",
     "text": [
      "[Parallel(n_jobs=4)]: Using backend LokyBackend with 4 concurrent workers.\n",
      "[Parallel(n_jobs=4)]: Done  16 out of  16 | elapsed: 16.6min finished\n"
     ]
    },
    {
     "name": "stdout",
     "output_type": "stream",
     "text": [
      "Best score of accuracy:  0.5964027660116957\n",
      "Best parameter set:\n",
      "clf LinearSVC(C=0.05)\n",
      "clf__C 0.05\n",
      "clf__class_weight None\n",
      "clf__dual True\n",
      "clf__fit_intercept True\n",
      "clf__intercept_scaling 1\n",
      "clf__loss squared_hinge\n",
      "clf__max_iter 1000\n",
      "clf__multi_class ovr\n",
      "clf__penalty l2\n",
      "clf__random_state None\n",
      "clf__tol 0.0001\n",
      "clf__verbose 0\n",
      "memory None\n",
      "steps [('vect', TfidfVectorizer(stop_words='english')), ('clf', LinearSVC(C=0.05))]\n",
      "vect TfidfVectorizer(stop_words='english')\n",
      "vect__analyzer word\n",
      "vect__binary False\n",
      "vect__decode_error strict\n",
      "vect__dtype <class 'numpy.float64'>\n",
      "vect__encoding utf-8\n",
      "vect__input content\n",
      "vect__lowercase True\n",
      "vect__max_df 1.0\n",
      "vect__max_features None\n",
      "vect__min_df 1\n",
      "vect__ngram_range (1, 1)\n",
      "vect__norm l2\n",
      "vect__preprocessor None\n",
      "vect__smooth_idf True\n",
      "vect__stop_words english\n",
      "vect__strip_accents None\n",
      "vect__sublinear_tf False\n",
      "vect__token_pattern (?u)\\b\\w\\w+\\b\n",
      "vect__tokenizer None\n",
      "vect__use_idf True\n",
      "vect__vocabulary None\n",
      "verbose False\n"
     ]
    }
   ],
   "source": [
    "# if you wanna do gridsearch for better parameter, start from before training model\n",
    "from sklearn.model_selection import GridSearchCV\n",
    "from sklearn.svm import LinearSVC\n",
    "\n",
    "pipeline = Pipeline([\n",
    "    ('vect', vect),\n",
    "    ('clf', LinearSVC())\n",
    "])\n",
    "\n",
    "parameters = {\n",
    "    'clf__C': (0.03,0.04,0.05,0.06),\n",
    "    #'clf__penalty':('l1','l2')\n",
    "    #'clf__epsilon': (0.4,0.5,0.6),\n",
    "     #'clf__loss':('epsilon_insensitive','squared_epsilon_insensitive')\n",
    "}\n",
    "\n",
    "#3x2x3=24 , 15的时候就40G了，24的话ram快不够用了\n",
    "grid_search = GridSearchCV(pipeline, parameters, n_jobs=4, scoring='accuracy', verbose=2, cv = 4)\n",
    "    \n",
    "grid_search.fit(X_train.flatten(), y_train)\n",
    "print('Best score of accuracy: ', grid_search.best_score_)\n",
    "print('Best parameter set:')\n",
    "best_parameters = grid_search.best_estimator_.get_params()\n",
    "for param_name in sorted(best_parameters):\n",
    "    print(param_name, best_parameters[param_name])"
   ]
  },
  {
   "cell_type": "code",
   "execution_count": 9,
   "metadata": {},
   "outputs": [
    {
     "name": "stdout",
     "output_type": "stream",
     "text": [
      "Fitting 4 folds for each of 4 candidates, totalling 16 fits\n"
     ]
    },
    {
     "name": "stderr",
     "output_type": "stream",
     "text": [
      "[Parallel(n_jobs=4)]: Using backend LokyBackend with 4 concurrent workers.\n",
      "[Parallel(n_jobs=4)]: Done  16 out of  16 | elapsed: 17.4min finished\n"
     ]
    },
    {
     "name": "stdout",
     "output_type": "stream",
     "text": [
      "Best score of accuracy:  0.5963487905381509\n",
      "Best parameter set:\n",
      "clf LinearSVC(C=0.06)\n",
      "clf__C 0.06\n",
      "clf__class_weight None\n",
      "clf__dual True\n",
      "clf__fit_intercept True\n",
      "clf__intercept_scaling 1\n",
      "clf__loss squared_hinge\n",
      "clf__max_iter 1000\n",
      "clf__multi_class ovr\n",
      "clf__penalty l2\n",
      "clf__random_state None\n",
      "clf__tol 0.0001\n",
      "clf__verbose 0\n",
      "memory None\n",
      "steps [('vect', TfidfVectorizer(stop_words='english')), ('clf', LinearSVC(C=0.06))]\n",
      "vect TfidfVectorizer(stop_words='english')\n",
      "vect__analyzer word\n",
      "vect__binary False\n",
      "vect__decode_error strict\n",
      "vect__dtype <class 'numpy.float64'>\n",
      "vect__encoding utf-8\n",
      "vect__input content\n",
      "vect__lowercase True\n",
      "vect__max_df 1.0\n",
      "vect__max_features None\n",
      "vect__min_df 1\n",
      "vect__ngram_range (1, 1)\n",
      "vect__norm l2\n",
      "vect__preprocessor None\n",
      "vect__smooth_idf True\n",
      "vect__stop_words english\n",
      "vect__strip_accents None\n",
      "vect__sublinear_tf False\n",
      "vect__token_pattern (?u)\\b\\w\\w+\\b\n",
      "vect__tokenizer None\n",
      "vect__use_idf True\n",
      "vect__vocabulary None\n",
      "verbose False\n"
     ]
    }
   ],
   "source": [
    "# if you wanna do gridsearch for better parameter, start from before training model\n",
    "from sklearn.model_selection import GridSearchCV\n",
    "from sklearn.svm import LinearSVC\n",
    "\n",
    "pipeline = Pipeline([\n",
    "    ('vect', vect),\n",
    "    ('clf', LinearSVC())\n",
    "])\n",
    "\n",
    "parameters = {\n",
    "    'clf__C': (0.06,0.07,0.08,0.09),\n",
    "    #'clf__penalty':('l1','l2')\n",
    "    #'clf__epsilon': (0.4,0.5,0.6),\n",
    "     #'clf__loss':('epsilon_insensitive','squared_epsilon_insensitive')\n",
    "}\n",
    "\n",
    "#3x2x3=24 , 15的时候就40G了，24的话ram快不够用了\n",
    "grid_search = GridSearchCV(pipeline, parameters, n_jobs=4, scoring='accuracy', verbose=2, cv = 4)\n",
    "    \n",
    "grid_search.fit(X_train.flatten(), y_train)\n",
    "print('Best score of accuracy: ', grid_search.best_score_)\n",
    "print('Best parameter set:')\n",
    "best_parameters = grid_search.best_estimator_.get_params()\n",
    "for param_name in sorted(best_parameters):\n",
    "    print(param_name, best_parameters[param_name])"
   ]
  },
  {
   "cell_type": "code",
   "execution_count": 8,
   "metadata": {},
   "outputs": [
    {
     "name": "stdout",
     "output_type": "stream",
     "text": [
      "Fitting 4 folds for each of 4 candidates, totalling 16 fits\n"
     ]
    },
    {
     "name": "stderr",
     "output_type": "stream",
     "text": [
      "[Parallel(n_jobs=4)]: Using backend LokyBackend with 4 concurrent workers.\n",
      "[Parallel(n_jobs=4)]: Done  16 out of  16 | elapsed: 17.2min finished\n"
     ]
    },
    {
     "name": "stdout",
     "output_type": "stream",
     "text": [
      "Best score of accuracy:  0.5958974527688904\n",
      "Best parameter set:\n",
      "clf LinearSVC(C=0.08)\n",
      "clf__C 0.08\n",
      "clf__class_weight None\n",
      "clf__dual True\n",
      "clf__fit_intercept True\n",
      "clf__intercept_scaling 1\n",
      "clf__loss squared_hinge\n",
      "clf__max_iter 1000\n",
      "clf__multi_class ovr\n",
      "clf__penalty l2\n",
      "clf__random_state None\n",
      "clf__tol 0.0001\n",
      "clf__verbose 0\n",
      "memory None\n",
      "steps [('vect', TfidfVectorizer(stop_words='english')), ('clf', LinearSVC(C=0.08))]\n",
      "vect TfidfVectorizer(stop_words='english')\n",
      "vect__analyzer word\n",
      "vect__binary False\n",
      "vect__decode_error strict\n",
      "vect__dtype <class 'numpy.float64'>\n",
      "vect__encoding utf-8\n",
      "vect__input content\n",
      "vect__lowercase True\n",
      "vect__max_df 1.0\n",
      "vect__max_features None\n",
      "vect__min_df 1\n",
      "vect__ngram_range (1, 1)\n",
      "vect__norm l2\n",
      "vect__preprocessor None\n",
      "vect__smooth_idf True\n",
      "vect__stop_words english\n",
      "vect__strip_accents None\n",
      "vect__sublinear_tf False\n",
      "vect__token_pattern (?u)\\b\\w\\w+\\b\n",
      "vect__tokenizer None\n",
      "vect__use_idf True\n",
      "vect__vocabulary None\n",
      "verbose False\n"
     ]
    }
   ],
   "source": [
    "# if you wanna do gridsearch for better parameter, start from before training model\n",
    "from sklearn.model_selection import GridSearchCV\n",
    "from sklearn.svm import LinearSVC\n",
    "\n",
    "pipeline = Pipeline([\n",
    "    ('vect', vect),\n",
    "    ('clf', LinearSVC())\n",
    "])\n",
    "\n",
    "parameters = {\n",
    "    'clf__C': (0.08,0.09,0.1,0.11),\n",
    "    #'clf__penalty':('l1','l2')\n",
    "    #'clf__epsilon': (0.4,0.5,0.6),\n",
    "     #'clf__loss':('epsilon_insensitive','squared_epsilon_insensitive')\n",
    "}\n",
    "\n",
    "#3x2x3=24 , 15的时候就40G了，24的话ram快不够用了\n",
    "grid_search = GridSearchCV(pipeline, parameters, n_jobs=4, scoring='accuracy', verbose=2, cv = 4)\n",
    "    \n",
    "grid_search.fit(X_train.flatten(), y_train)\n",
    "print('Best score of accuracy: ', grid_search.best_score_)\n",
    "print('Best parameter set:')\n",
    "best_parameters = grid_search.best_estimator_.get_params()\n",
    "for param_name in sorted(best_parameters):\n",
    "    print(param_name, best_parameters[param_name])"
   ]
  },
  {
   "cell_type": "code",
   "execution_count": 46,
   "metadata": {},
   "outputs": [
    {
     "name": "stdout",
     "output_type": "stream",
     "text": [
      "Fitting 4 folds for each of 3 candidates, totalling 12 fits\n"
     ]
    },
    {
     "name": "stderr",
     "output_type": "stream",
     "text": [
      "[Parallel(n_jobs=4)]: Using backend LokyBackend with 4 concurrent workers.\n",
      "[Parallel(n_jobs=4)]: Done  12 out of  12 | elapsed: 12.2min remaining:    0.0s\n",
      "[Parallel(n_jobs=4)]: Done  12 out of  12 | elapsed: 12.2min finished\n"
     ]
    },
    {
     "name": "stdout",
     "output_type": "stream",
     "text": [
      "Best score of accuracy:  0.5955062590987227\n",
      "Best parameter set:\n",
      "clf LinearSVC(C=0.1)\n",
      "clf__C 0.1\n",
      "clf__class_weight None\n",
      "clf__dual True\n",
      "clf__fit_intercept True\n",
      "clf__intercept_scaling 1\n",
      "clf__loss squared_hinge\n",
      "clf__max_iter 1000\n",
      "clf__multi_class ovr\n",
      "clf__penalty l2\n",
      "clf__random_state None\n",
      "clf__tol 0.0001\n",
      "clf__verbose 0\n",
      "memory None\n",
      "steps [('vect', TfidfVectorizer(stop_words='english')), ('clf', LinearSVC(C=0.1))]\n",
      "vect TfidfVectorizer(stop_words='english')\n",
      "vect__analyzer word\n",
      "vect__binary False\n",
      "vect__decode_error strict\n",
      "vect__dtype <class 'numpy.float64'>\n",
      "vect__encoding utf-8\n",
      "vect__input content\n",
      "vect__lowercase True\n",
      "vect__max_df 1.0\n",
      "vect__max_features None\n",
      "vect__min_df 1\n",
      "vect__ngram_range (1, 1)\n",
      "vect__norm l2\n",
      "vect__preprocessor None\n",
      "vect__smooth_idf True\n",
      "vect__stop_words english\n",
      "vect__strip_accents None\n",
      "vect__sublinear_tf False\n",
      "vect__token_pattern (?u)\\b\\w\\w+\\b\n",
      "vect__tokenizer None\n",
      "vect__use_idf True\n",
      "vect__vocabulary None\n",
      "verbose False\n"
     ]
    }
   ],
   "source": [
    "# if you wanna do gridsearch for better parameter, start from before training model\n",
    "from sklearn.model_selection import GridSearchCV\n",
    "from sklearn.svm import LinearSVC\n",
    "\n",
    "pipeline = Pipeline([\n",
    "    ('vect', vect),\n",
    "    ('clf', LinearSVC())\n",
    "])\n",
    "\n",
    "parameters = {\n",
    "    'clf__C': (0.01,0.1,0.2,),\n",
    "    #'clf__penalty':('l1','l2')\n",
    "    #'clf__epsilon': (0.4,0.5,0.6),\n",
    "     #'clf__loss':('epsilon_insensitive','squared_epsilon_insensitive')\n",
    "}\n",
    "\n",
    "#3x2x3=24 , 15的时候就40G了，24的话ram快不够用了\n",
    "grid_search = GridSearchCV(pipeline, parameters, n_jobs=4, scoring='accuracy', verbose=2, cv = 4)\n",
    "    \n",
    "grid_search.fit(X_train.flatten(), y_train)\n",
    "print('Best score of accuracy: ', grid_search.best_score_)\n",
    "print('Best parameter set:')\n",
    "best_parameters = grid_search.best_estimator_.get_params()\n",
    "for param_name in sorted(best_parameters):\n",
    "    print(param_name, best_parameters[param_name])"
   ]
  },
  {
   "cell_type": "code",
   "execution_count": 45,
   "metadata": {},
   "outputs": [
    {
     "name": "stdout",
     "output_type": "stream",
     "text": [
      "Fitting 4 folds for each of 3 candidates, totalling 12 fits\n"
     ]
    },
    {
     "name": "stderr",
     "output_type": "stream",
     "text": [
      "[Parallel(n_jobs=4)]: Using backend LokyBackend with 4 concurrent workers.\n",
      "[Parallel(n_jobs=4)]: Done  12 out of  12 | elapsed: 13.8min remaining:    0.0s\n",
      "[Parallel(n_jobs=4)]: Done  12 out of  12 | elapsed: 13.8min finished\n"
     ]
    },
    {
     "name": "stdout",
     "output_type": "stream",
     "text": [
      "Best score of accuracy:  0.5934042999432486\n",
      "Best parameter set:\n",
      "clf LinearSVC(C=0.2)\n",
      "clf__C 0.2\n",
      "clf__class_weight None\n",
      "clf__dual True\n",
      "clf__fit_intercept True\n",
      "clf__intercept_scaling 1\n",
      "clf__loss squared_hinge\n",
      "clf__max_iter 1000\n",
      "clf__multi_class ovr\n",
      "clf__penalty l2\n",
      "clf__random_state None\n",
      "clf__tol 0.0001\n",
      "clf__verbose 0\n",
      "memory None\n",
      "steps [('vect', TfidfVectorizer(stop_words='english')), ('clf', LinearSVC(C=0.2))]\n",
      "vect TfidfVectorizer(stop_words='english')\n",
      "vect__analyzer word\n",
      "vect__binary False\n",
      "vect__decode_error strict\n",
      "vect__dtype <class 'numpy.float64'>\n",
      "vect__encoding utf-8\n",
      "vect__input content\n",
      "vect__lowercase True\n",
      "vect__max_df 1.0\n",
      "vect__max_features None\n",
      "vect__min_df 1\n",
      "vect__ngram_range (1, 1)\n",
      "vect__norm l2\n",
      "vect__preprocessor None\n",
      "vect__smooth_idf True\n",
      "vect__stop_words english\n",
      "vect__strip_accents None\n",
      "vect__sublinear_tf False\n",
      "vect__token_pattern (?u)\\b\\w\\w+\\b\n",
      "vect__tokenizer None\n",
      "vect__use_idf True\n",
      "vect__vocabulary None\n",
      "verbose False\n"
     ]
    }
   ],
   "source": [
    "# if you wanna do gridsearch for better parameter, start from before training model\n",
    "from sklearn.model_selection import GridSearchCV\n",
    "from sklearn.svm import LinearSVC\n",
    "\n",
    "pipeline = Pipeline([\n",
    "    ('vect', vect),\n",
    "    ('clf', LinearSVC())\n",
    "])\n",
    "\n",
    "parameters = {\n",
    "    'clf__C': (0.2,0.3,0.4,),\n",
    "    #'clf__penalty':('l1','l2')\n",
    "    #'clf__epsilon': (0.4,0.5,0.6),\n",
    "     #'clf__loss':('epsilon_insensitive','squared_epsilon_insensitive')\n",
    "}\n",
    "\n",
    "#3x2x3=24 , 15的时候就40G了，24的话ram快不够用了\n",
    "grid_search = GridSearchCV(pipeline, parameters, n_jobs=4, scoring='accuracy', verbose=2, cv = 4)\n",
    "    \n",
    "grid_search.fit(X_train.flatten(), y_train)\n",
    "print('Best score of accuracy: ', grid_search.best_score_)\n",
    "print('Best parameter set:')\n",
    "best_parameters = grid_search.best_estimator_.get_params()\n",
    "for param_name in sorted(best_parameters):\n",
    "    print(param_name, best_parameters[param_name])"
   ]
  },
  {
   "cell_type": "code",
   "execution_count": 27,
   "metadata": {},
   "outputs": [
    {
     "name": "stdout",
     "output_type": "stream",
     "text": [
      "Fitting 4 folds for each of 6 candidates, totalling 24 fits\n"
     ]
    },
    {
     "name": "stderr",
     "output_type": "stream",
     "text": [
      "[Parallel(n_jobs=4)]: Using backend LokyBackend with 4 concurrent workers.\n",
      "[Parallel(n_jobs=4)]: Done  24 out of  24 | elapsed: 27.2min finished\n"
     ]
    },
    {
     "name": "stdout",
     "output_type": "stream",
     "text": [
      "Best score of accuracy:  0.5889860218945082\n",
      "Best parameter set:\n",
      "clf LinearSVC(C=0.5)\n",
      "clf__C 0.5\n",
      "clf__class_weight None\n",
      "clf__dual True\n",
      "clf__fit_intercept True\n",
      "clf__intercept_scaling 1\n",
      "clf__loss squared_hinge\n",
      "clf__max_iter 1000\n",
      "clf__multi_class ovr\n",
      "clf__penalty l2\n",
      "clf__random_state None\n",
      "clf__tol 0.0001\n",
      "clf__verbose 0\n",
      "memory None\n",
      "steps [('vect', TfidfVectorizer(stop_words='english')), ('clf', LinearSVC(C=0.5))]\n",
      "vect TfidfVectorizer(stop_words='english')\n",
      "vect__analyzer word\n",
      "vect__binary False\n",
      "vect__decode_error strict\n",
      "vect__dtype <class 'numpy.float64'>\n",
      "vect__encoding utf-8\n",
      "vect__input content\n",
      "vect__lowercase True\n",
      "vect__max_df 1.0\n",
      "vect__max_features None\n",
      "vect__min_df 1\n",
      "vect__ngram_range (1, 1)\n",
      "vect__norm l2\n",
      "vect__preprocessor None\n",
      "vect__smooth_idf True\n",
      "vect__stop_words english\n",
      "vect__strip_accents None\n",
      "vect__sublinear_tf False\n",
      "vect__token_pattern (?u)\\b\\w\\w+\\b\n",
      "vect__tokenizer None\n",
      "vect__use_idf True\n",
      "vect__vocabulary None\n",
      "verbose False\n"
     ]
    }
   ],
   "source": [
    "# if you wanna do gridsearch for better parameter, start from before training model\n",
    "from sklearn.model_selection import GridSearchCV\n",
    "from sklearn.svm import LinearSVC\n",
    "\n",
    "pipeline = Pipeline([\n",
    "    ('vect', vect),\n",
    "    ('clf', LinearSVC())\n",
    "])\n",
    "\n",
    "parameters = {\n",
    "    'clf__C': (0.5,1,1.5),\n",
    "    'clf__penalty':('l1','l2')\n",
    "    #'clf__epsilon': (0.4,0.5,0.6),\n",
    "     #'clf__loss':('epsilon_insensitive','squared_epsilon_insensitive')\n",
    "}\n",
    "\n",
    "#3x2x3=24 , 15的时候就40G了，24的话ram快不够用了\n",
    "grid_search = GridSearchCV(pipeline, parameters, n_jobs=4, scoring='accuracy', verbose=2, cv = 4)\n",
    "    \n",
    "grid_search.fit(X_train.flatten, y_train)\n",
    "print('Best score of accuracy: ', grid_search.best_score_)\n",
    "print('Best parameter set:')\n",
    "best_parameters = grid_search.best_estimator_.get_params()\n",
    "for param_name in sorted(best_parameters):\n",
    "    print(param_name, best_parameters[param_name])"
   ]
  },
  {
   "cell_type": "code",
   "execution_count": 18,
   "metadata": {},
   "outputs": [],
   "source": [
    "from sklearn import metrics, preprocessing, tree\n",
    "from sklearn.metrics import accuracy_score\n",
    "from sklearn.metrics import f1_score, make_scorer\n",
    "from sklearn.metrics import average_precision_score\n",
    "from sklearn.metrics import recall_score"
   ]
  },
  {
   "cell_type": "code",
   "execution_count": null,
   "metadata": {},
   "outputs": [],
   "source": []
  },
  {
   "cell_type": "code",
   "execution_count": 19,
   "metadata": {},
   "outputs": [
    {
     "name": "stdout",
     "output_type": "stream",
     "text": [
      "Yelp dataset SVC c= 0.05:\n",
      "Accuracy score: 0.5984704550252365\n",
      "F1 score: 0.5902901809610128\n"
     ]
    }
   ],
   "source": [
    "def print_evaluation_scores(y_test, y_pred):\n",
    "    print(\"Yelp dataset SVC c= 0.05:\")\n",
    "    print(\"Accuracy score:\",accuracy_score(y_test, y_pred))\n",
    "    print(\"F1 score:\",f1_score(y_test, y_pred, average='weighted'))\n",
    "print_evaluation_scores(y_test, y_pred)"
   ]
  },
  {
   "cell_type": "code",
   "execution_count": 44,
   "metadata": {},
   "outputs": [
    {
     "name": "stdout",
     "output_type": "stream",
     "text": [
      "Yelp dataset SVC c= 0.4:\n",
      "Accuracy score: 0.5925691365843361\n",
      "F1 score: 0.5850350791307827\n"
     ]
    }
   ],
   "source": [
    "def print_evaluation_scores(y_test, y_pred):\n",
    "    print(\"Yelp dataset SVC c= 0.4:\")\n",
    "    print(\"Accuracy score:\",accuracy_score(y_test, y_pred))\n",
    "    print(\"F1 score:\",f1_score(y_test, y_pred, average='weighted'))\n",
    "print_evaluation_scores(y_test, y_pred)"
   ]
  },
  {
   "cell_type": "code",
   "execution_count": 33,
   "metadata": {},
   "outputs": [
    {
     "name": "stdout",
     "output_type": "stream",
     "text": [
      "Yelp dataset SVC c= 0.5:\n",
      "Accuracy score: 0.5914752336538277\n",
      "F1 score: 0.5840317410333056\n"
     ]
    }
   ],
   "source": [
    "def print_evaluation_scores(y_test, y_pred):\n",
    "    print(\"Yelp dataset SVC c= 0.5:\")\n",
    "    print(\"Accuracy score:\",accuracy_score(y_test, y_pred))\n",
    "    print(\"F1 score:\",f1_score(y_test, y_pred, average='weighted'))\n",
    "print_evaluation_scores(y_test, y_pred)"
   ]
  },
  {
   "cell_type": "code",
   "execution_count": 16,
   "metadata": {},
   "outputs": [
    {
     "name": "stdout",
     "output_type": "stream",
     "text": [
      "For Yelp dataset:\n",
      "Accuracy score: 0.5878025025428445\n",
      "F1 score: 0.5807076941191813\n"
     ]
    }
   ],
   "source": [
    "def print_evaluation_scores(y_test, y_pred):\n",
    "    print(\"For Yelp dataset:\")\n",
    "    print(\"Accuracy score:\",accuracy_score(y_test, y_pred))\n",
    "    print(\"F1 score:\",f1_score(y_test, y_pred, average='weighted'))\n",
    "print_evaluation_scores(y_test, y_pred)"
   ]
  },
  {
   "cell_type": "code",
   "execution_count": 14,
   "metadata": {},
   "outputs": [
    {
     "name": "stdout",
     "output_type": "stream",
     "text": [
      "For Fitness:\n",
      "Accuracy score: 0.5560447624289121\n",
      "F1 score: 0.552719671039789\n"
     ]
    }
   ],
   "source": [
    "def print_evaluation_scores(y_test, y_pred):\n",
    "    print(\"For Fitness:\")\n",
    "    print(\"Accuracy score:\",accuracy_score(y_test, y_pred))\n",
    "    print(\"F1 score:\",f1_score(y_test, y_pred, average='weighted'))\n",
    "print_evaluation_scores(y_test, y_pred)"
   ]
  },
  {
   "cell_type": "code",
   "execution_count": 20,
   "metadata": {},
   "outputs": [
    {
     "name": "stdout",
     "output_type": "stream",
     "text": [
      "CLASSIFICATIION METRICS for Yelpdataset SVC C=0.05\n",
      "\n",
      "              precision    recall  f1-score   support\n",
      "\n",
      "           1       0.67      0.80      0.73    166251\n",
      "           2       0.54      0.47      0.50    166749\n",
      "           3       0.53      0.43      0.47    166509\n",
      "           4       0.53      0.52      0.53    167101\n",
      "           5       0.67      0.77      0.72    167102\n",
      "\n",
      "    accuracy                           0.60    833712\n",
      "   macro avg       0.59      0.60      0.59    833712\n",
      "weighted avg       0.59      0.60      0.59    833712\n",
      "\n"
     ]
    }
   ],
   "source": [
    "#support is the number of the reviews in this test size (y_test) 89300*0.3=26790\n",
    "print('CLASSIFICATIION METRICS for Yelpdataset SVC C=0.05\\n')\n",
    "print(metrics.classification_report(y_test, y_pred))"
   ]
  },
  {
   "cell_type": "code",
   "execution_count": 35,
   "metadata": {},
   "outputs": [
    {
     "name": "stdout",
     "output_type": "stream",
     "text": [
      "CLASSIFICATIION METRICS for Yelpdataset SVC C=0.5\n",
      "\n",
      "              precision    recall  f1-score   support\n",
      "\n",
      "           1       0.68      0.79      0.73    166251\n",
      "           2       0.52      0.47      0.50    166749\n",
      "           3       0.51      0.43      0.47    166509\n",
      "           4       0.52      0.51      0.51    167101\n",
      "           5       0.67      0.76      0.72    167102\n",
      "\n",
      "    accuracy                           0.59    833712\n",
      "   macro avg       0.58      0.59      0.58    833712\n",
      "weighted avg       0.58      0.59      0.58    833712\n",
      "\n"
     ]
    }
   ],
   "source": [
    "#support is the number of the reviews in this test size (y_test) 89300*0.3=26790\n",
    "print('CLASSIFICATIION METRICS for Yelpdataset SVC C=0.5\\n')\n",
    "print(metrics.classification_report(y_test, y_pred))"
   ]
  },
  {
   "cell_type": "code",
   "execution_count": 17,
   "metadata": {},
   "outputs": [
    {
     "name": "stdout",
     "output_type": "stream",
     "text": [
      "\t\tCLASSIFICATIION METRICS for Yelp dataset\n",
      "\n",
      "              precision    recall  f1-score   support\n",
      "\n",
      "           1       0.67      0.79      0.73    166251\n",
      "           2       0.52      0.47      0.49    166749\n",
      "           3       0.51      0.42      0.46    166509\n",
      "           4       0.52      0.51      0.51    167101\n",
      "           5       0.67      0.76      0.71    167102\n",
      "\n",
      "    accuracy                           0.59    833712\n",
      "   macro avg       0.58      0.59      0.58    833712\n",
      "weighted avg       0.58      0.59      0.58    833712\n",
      "\n"
     ]
    }
   ],
   "source": [
    "#support is the number of the reviews in this test size (y_test) 89300*0.3=26790\n",
    "print('\\t\\tCLASSIFICATIION METRICS for Yelp dataset\\n')\n",
    "print(metrics.classification_report(y_test, y_pred))"
   ]
  },
  {
   "cell_type": "code",
   "execution_count": 21,
   "metadata": {},
   "outputs": [
    {
     "data": {
      "image/png": "[encoded data removed]",
      "text/plain": [
       "<Figure size 576x576 with 2 Axes>"
      ]
     },
     "metadata": {},
     "output_type": "display_data"
    }
   ],
   "source": [
    "#using seaborn to plot\n",
    "import matplotlib.pyplot as plt\n",
    "import seaborn\n",
    "from sklearn.metrics import confusion_matrix\n",
    "\n",
    "conf_mat = confusion_matrix(y_test, y_pred)\n",
    "fig, ax = plt.subplots(figsize=(8,8))\n",
    "seaborn.heatmap(conf_mat, annot=True, cmap=\"Blues\", fmt='d', xticklabels=[1,2,3,4,5], yticklabels=[1,2,3,4,5])\n",
    "plt.ylabel('Actual')\n",
    "plt.xlabel('Predicted')\n",
    "plt.title(\"CONFUSION MATRIX - SVC for YelpDataset C=0.05\\n\", size=16);"
   ]
  },
  {
   "cell_type": "code",
   "execution_count": 36,
   "metadata": {},
   "outputs": [
    {
     "data": {
      "image/png": "[encoded data removed]",
      "text/plain": [
       "<Figure size 576x576 with 2 Axes>"
      ]
     },
     "metadata": {},
     "output_type": "display_data"
    }
   ],
   "source": [
    "#using seaborn to plot\n",
    "import matplotlib.pyplot as plt\n",
    "import seaborn\n",
    "from sklearn.metrics import confusion_matrix\n",
    "\n",
    "conf_mat = confusion_matrix(y_test, y_pred)\n",
    "fig, ax = plt.subplots(figsize=(8,8))\n",
    "seaborn.heatmap(conf_mat, annot=True, cmap=\"Blues\", fmt='d', xticklabels=[1,2,3,4,5], yticklabels=[1,2,3,4,5])\n",
    "plt.ylabel('Actual')\n",
    "plt.xlabel('Predicted')\n",
    "plt.title(\"CONFUSION MATRIX - SVC for YelpDataset C=0.5\\n\", size=16);"
   ]
  },
  {
   "cell_type": "code",
   "execution_count": 18,
   "metadata": {
    "scrolled": true
   },
   "outputs": [
    {
     "data": {
      "image/png": "[encoded data removed]",
      "text/plain": [
       "<Figure size 576x576 with 2 Axes>"
      ]
     },
     "metadata": {},
     "output_type": "display_data"
    }
   ],
   "source": [
    "#using seaborn to plot\n",
    "import matplotlib.pyplot as plt\n",
    "import seaborn\n",
    "from sklearn.metrics import confusion_matrix\n",
    "\n",
    "conf_mat = confusion_matrix(y_test, y_pred)\n",
    "fig, ax = plt.subplots(figsize=(8,8))\n",
    "seaborn.heatmap(conf_mat, annot=True, cmap=\"Blues\", fmt='d', xticklabels=[1,2,3,4,5], yticklabels=[1,2,3,4,5])\n",
    "plt.ylabel('Actual')\n",
    "plt.xlabel('Predicted')\n",
    "plt.title(\"CONFUSION MATRIX - SVC for YelpDataset\\n\", size=16);"
   ]
  },
  {
   "cell_type": "code",
   "execution_count": 20,
   "metadata": {},
   "outputs": [],
   "source": [
    "import pickle\n",
    "pickle.dump(pipe_fitness, open('yelp_review_predict_star.pkl', 'wb'))"
   ]
  },
  {
   "cell_type": "code",
   "execution_count": 27,
   "metadata": {
    "scrolled": false
   },
   "outputs": [
    {
     "data": {
      "text/plain": [
       "5"
      ]
     },
     "execution_count": 27,
     "metadata": {},
     "output_type": "execute_result"
    }
   ],
   "source": [
    "my_review = [\"I already knew App Academy would be tough before I applied, but I never would've thought it was the most difficult experience I had ever imagine. As someone with no prior coding experience, I would say the first few weeks were really hard on me and it doesn't get easier. Eventually, it's something that everyone gets accustomed to. Before I knew it, it was 3 months already and I can finally tell people that I'm a software developer.To sum things up, App Academy is harder than anything you imagined, but it will also be the most rewarding experience in your life.\"]\n",
    "pipe_fitness.predict(my_review)[0]"
   ]
  },
  {
   "cell_type": "code",
   "execution_count": null,
   "metadata": {},
   "outputs": [],
   "source": []
  },
  {
   "cell_type": "code",
   "execution_count": null,
   "metadata": {},
   "outputs": [],
   "source": []
  },
  {
   "cell_type": "code",
   "execution_count": null,
   "metadata": {},
   "outputs": [],
   "source": []
  }
 ],
 "metadata": {
  "kernelspec": {
   "display_name": "Python 3",
   "language": "python",
   "name": "python3"
  },
  "language_info": {
   "codemirror_mode": {
    "name": "ipython",
    "version": 3
   },
   "file_extension": ".py",
   "mimetype": "text/x-python",
   "name": "python",
   "nbconvert_exporter": "python",
   "pygments_lexer": "ipython3",
   "version": "3.7.7"
  }
 },
 "nbformat": 4,
 "nbformat_minor": 4
}
